{
 "cells": [
  {
   "cell_type": "markdown",
   "id": "5d73f7bf-880b-4a22-a6bc-26e1d4ae5573",
   "metadata": {
    "editable": true,
    "raw_mimetype": "",
    "slideshow": {
     "slide_type": "slide"
    },
    "tags": []
   },
   "source": [
    "## Indentation & `if` blocks"
   ]
  },
  {
   "cell_type": "markdown",
   "id": "93197d47-75fd-484e-9281-de86c68b5a9d",
   "metadata": {
    "editable": true,
    "slideshow": {
     "slide_type": ""
    },
    "tags": []
   },
   "source": [
    "1) prints `positive`\n",
    "2) prints nothing\n",
    "3) raises `NameError`"
   ]
  },
  {
   "cell_type": "code",
   "execution_count": null,
   "id": "0106642f-c800-4c27-a924-d3423c62ae62",
   "metadata": {
    "editable": true,
    "slideshow": {
     "slide_type": ""
    },
    "tags": []
   },
   "outputs": [],
   "source": [
    "x = 5\n",
    "if x > 0:\n",
    "    sign = \"positive\"\n",
    "print(sign)"
   ]
  },
  {
   "cell_type": "markdown",
   "id": "93c6005c-ec54-4e97-b157-d100eaec6c7b",
   "metadata": {
    "editable": true,
    "slideshow": {
     "slide_type": "slide"
    },
    "tags": []
   },
   "source": [
    "## Integer division vs. true division"
   ]
  },
  {
   "cell_type": "markdown",
   "id": "c7cd4c90-180b-4a2a-9bbd-97a8f2c36146",
   "metadata": {
    "editable": true,
    "slideshow": {
     "slide_type": ""
    },
    "tags": []
   },
   "source": [
    "1) `3 3`\n",
    "2) `3 3.5`\n",
    "3) `3.5 3.5`"
   ]
  },
  {
   "cell_type": "code",
   "execution_count": null,
   "id": "5d6bcab7-e069-476c-a52b-947a2d85041e",
   "metadata": {
    "editable": true,
    "slideshow": {
     "slide_type": ""
    },
    "tags": []
   },
   "outputs": [],
   "source": [
    "print(7 // 2, 7 / 2)"
   ]
  },
  {
   "cell_type": "markdown",
   "id": "c47626ff-b15c-47e0-b34a-aeb6d80377e6",
   "metadata": {
    "editable": true,
    "slideshow": {
     "slide_type": "slide"
    },
    "tags": []
   },
   "source": [
    "## List indexing"
   ]
  },
  {
   "cell_type": "markdown",
   "id": "ac5b063d-ba44-4c9a-bee2-391954765e35",
   "metadata": {
    "editable": true,
    "slideshow": {
     "slide_type": ""
    },
    "tags": []
   },
   "source": [
    "1) `cat`\n",
    "2) `dog`\n",
    "3) raises `IndexError`"
   ]
  },
  {
   "cell_type": "code",
   "execution_count": null,
   "id": "8615442b-7057-4dae-9205-7f118d9bee3e",
   "metadata": {
    "editable": true,
    "scrolled": true,
    "slideshow": {
     "slide_type": ""
    },
    "tags": []
   },
   "outputs": [],
   "source": [
    "pets = [\"cat\", \"dog\", \"python\"]\n",
    "print(pets[3])"
   ]
  },
  {
   "cell_type": "markdown",
   "id": "37fdab33-856f-443c-80ea-2ba78c95470b",
   "metadata": {
    "editable": true,
    "slideshow": {
     "slide_type": "slide"
    },
    "tags": []
   },
   "source": [
    "## `for` loop ranges"
   ]
  },
  {
   "cell_type": "markdown",
   "id": "f4ac6165-5609-4a85-a5aa-b6c200d5b377",
   "metadata": {
    "editable": true,
    "slideshow": {
     "slide_type": ""
    },
    "tags": []
   },
   "source": [
    "1) `3`\n",
    "2) `6`\n",
    "3) `0`"
   ]
  },
  {
   "cell_type": "code",
   "execution_count": null,
   "id": "bbf311f0-2bf6-480b-b396-f01f8cf6b2fd",
   "metadata": {
    "editable": true,
    "slideshow": {
     "slide_type": ""
    },
    "tags": []
   },
   "outputs": [],
   "source": [
    "total = 0\n",
    "for i in range(3):\n",
    "    total += i\n",
    "print(total)"
   ]
  },
  {
   "cell_type": "markdown",
   "id": "f4eaf1d6-57d6-4808-812e-8465ffc3a498",
   "metadata": {
    "editable": true,
    "slideshow": {
     "slide_type": "slide"
    },
    "tags": []
   },
   "source": [
    "## Mutable vs. immutable"
   ]
  },
  {
   "cell_type": "markdown",
   "id": "dbfdbcbe-4cec-4c0f-b8f8-2de735363120",
   "metadata": {
    "editable": true,
    "slideshow": {
     "slide_type": ""
    },
    "tags": []
   },
   "source": [
    "1) `abc`\n",
    "2) `xbc`\n",
    "3) raises `TypeError`"
   ]
  },
  {
   "cell_type": "code",
   "execution_count": null,
   "id": "3b004091-7e68-44ca-beed-63e3fb218a5e",
   "metadata": {
    "editable": true,
    "slideshow": {
     "slide_type": ""
    },
    "tags": []
   },
   "outputs": [],
   "source": [
    "s = \"abc\"\n",
    "try:\n",
    "    s[0] = \"x\"\n",
    "except TypeError:\n",
    "    s = \"x\" + s[1:]\n",
    "print(s)"
   ]
  },
  {
   "cell_type": "code",
   "execution_count": null,
   "id": "2d1b59b8-9998-460d-b765-262afdd9c28f",
   "metadata": {
    "editable": true,
    "slideshow": {
     "slide_type": "fragment"
    },
    "tags": []
   },
   "outputs": [],
   "source": [
    "s = \"abc\"\n",
    "s[0] = \"x\""
   ]
  },
  {
   "cell_type": "markdown",
   "id": "f12b2c74-955d-4ed8-acf4-5a15165b117f",
   "metadata": {
    "editable": true,
    "slideshow": {
     "slide_type": "slide"
    },
    "tags": []
   },
   "source": [
    "## NumPy boolean-index copy or view?"
   ]
  },
  {
   "cell_type": "markdown",
   "id": "f6e7528f-82df-4ea5-834a-d335b2010f07",
   "metadata": {
    "editable": true,
    "slideshow": {
     "slide_type": ""
    },
    "tags": []
   },
   "source": [
    "1) `2`\n",
    "2) `99`\n",
    "3) raises `ValueError`"
   ]
  },
  {
   "cell_type": "code",
   "execution_count": null,
   "id": "7ae0c779-0e1d-48c4-b100-16a58e51be57",
   "metadata": {
    "editable": true,
    "slideshow": {
     "slide_type": ""
    },
    "tags": []
   },
   "outputs": [],
   "source": [
    "import numpy as np\n",
    "a = np.arange(3)\n",
    "b = a[a > 1]\n",
    "b[0] = 99\n",
    "print(a[2])"
   ]
  },
  {
   "cell_type": "markdown",
   "id": "b96f8833-db0f-4892-b017-2c4d0daca617",
   "metadata": {
    "editable": true,
    "slideshow": {
     "slide_type": "fragment"
    },
    "tags": []
   },
   "source": [
    "Boolean indexing creates a copy, so mutating `b` leaves `a` unchanged."
   ]
  },
  {
   "cell_type": "code",
   "execution_count": null,
   "id": "c54f161b-dbe4-4276-a973-dadf91f8298b",
   "metadata": {
    "editable": true,
    "slideshow": {
     "slide_type": "fragment"
    },
    "tags": []
   },
   "outputs": [],
   "source": [
    "import numpy as np\n",
    "a = np.arange(3)\n",
    "b = a[1:]\n",
    "b[:] = 99\n",
    "print(a[2])"
   ]
  },
  {
   "cell_type": "markdown",
   "id": "b59b4e5d-cb2a-472c-be2a-96d794cd0ddc",
   "metadata": {
    "editable": true,
    "slideshow": {
     "slide_type": "fragment"
    },
    "tags": []
   },
   "source": [
    "`a[1:]` is a basic slice, so `b` and `a` share the same underlying memory. Changing `b` updates `a`."
   ]
  },
  {
   "cell_type": "markdown",
   "id": "405fb957-2de5-4377-b2fd-dcb48cbe0bfb",
   "metadata": {
    "editable": true,
    "slideshow": {
     "slide_type": "slide"
    },
    "tags": []
   },
   "source": [
    "## NumPy – Broadcasting shapes"
   ]
  },
  {
   "cell_type": "markdown",
   "id": "fd4bcfe9-fa4f-45ce-8947-0cf21eedc2d6",
   "metadata": {
    "editable": true,
    "slideshow": {
     "slide_type": ""
    },
    "tags": []
   },
   "source": [
    "1) `(3,)`\n",
    "2) `(3, 1)`\n",
    "3) `(3, 3)`"
   ]
  },
  {
   "cell_type": "code",
   "execution_count": null,
   "id": "55df1aac-db82-4fbf-b7bf-1326cd80a442",
   "metadata": {
    "editable": true,
    "slideshow": {
     "slide_type": ""
    },
    "tags": []
   },
   "outputs": [],
   "source": [
    "import numpy as np\n",
    "x = np.arange(3)\n",
    "y = np.arange(3).reshape(3,1)\n",
    "print((x + y).shape)"
   ]
  },
  {
   "cell_type": "code",
   "execution_count": null,
   "id": "481114c1-145f-4202-8220-3bc3658bee34",
   "metadata": {
    "editable": true,
    "slideshow": {
     "slide_type": ""
    },
    "tags": []
   },
   "outputs": [],
   "source": [
    "print(x, '\\n\\n', y, '\\n\\n', x + y)"
   ]
  },
  {
   "cell_type": "markdown",
   "id": "91dde0bd-b1f0-4c21-b999-306f5157edcd",
   "metadata": {
    "editable": true,
    "slideshow": {
     "slide_type": "slide"
    },
    "tags": []
   },
   "source": [
    "## Instance vs. class attribute"
   ]
  },
  {
   "cell_type": "markdown",
   "id": "489b2695-abd5-4c8f-b12c-55787d8252c0",
   "metadata": {
    "editable": true,
    "slideshow": {
     "slide_type": ""
    },
    "tags": []
   },
   "source": [
    "1) `active`\n",
    "2) `idle`\n",
    "3) raises `AttributeError`"
   ]
  },
  {
   "cell_type": "code",
   "execution_count": null,
   "id": "cef67971-ecca-4130-a226-49c8f3bd9b35",
   "metadata": {
    "editable": true,
    "slideshow": {
     "slide_type": ""
    },
    "tags": []
   },
   "outputs": [],
   "source": [
    "class Cell:\n",
    "    state = \"idle\"\n",
    "    def __init__(self):\n",
    "        self.state = \"active\"\n",
    "print(Cell.state)"
   ]
  },
  {
   "cell_type": "code",
   "execution_count": null,
   "id": "1800faf6-90e4-40e6-a54a-fc0337c04f0a",
   "metadata": {
    "editable": true,
    "slideshow": {
     "slide_type": "fragment"
    },
    "tags": []
   },
   "outputs": [],
   "source": [
    "c = Cell()\n",
    "print(c.state)"
   ]
  },
  {
   "cell_type": "code",
   "execution_count": null,
   "id": "86ab3f78-f1f1-4542-bae9-1bc40afd251e",
   "metadata": {
    "editable": true,
    "slideshow": {
     "slide_type": "fragment"
    },
    "tags": []
   },
   "outputs": [],
   "source": [
    "c = Cell()\n",
    "del c.state\n",
    "print(c.state)"
   ]
  },
  {
   "cell_type": "markdown",
   "id": "5310998f-7e33-459f-8208-05088d1d10fb",
   "metadata": {
    "editable": true,
    "slideshow": {
     "slide_type": "fragment"
    },
    "tags": []
   },
   "source": [
    "After deleting the instance attribute, Python falls back to the class attribute."
   ]
  },
  {
   "cell_type": "code",
   "execution_count": null,
   "id": "064fb59a-bcca-4059-8f9d-2f44a98e99d8",
   "metadata": {
    "editable": true,
    "slideshow": {
     "slide_type": "fragment"
    },
    "tags": []
   },
   "outputs": [],
   "source": [
    "del Cell.state\n",
    "print(Cell.state)"
   ]
  },
  {
   "cell_type": "markdown",
   "id": "14a8fda6-7373-4be9-b180-298573533f11",
   "metadata": {
    "editable": true,
    "slideshow": {
     "slide_type": "slide"
    },
    "tags": []
   },
   "source": [
    "## Iterable unpacking"
   ]
  },
  {
   "cell_type": "markdown",
   "id": "190c1fb9-56fd-41d4-b9f9-e492c463e522",
   "metadata": {
    "editable": true,
    "slideshow": {
     "slide_type": ""
    },
    "tags": []
   },
   "source": [
    "1) `4 2`\n",
    "2) `3 3`\n",
    "3) `3 2`"
   ]
  },
  {
   "cell_type": "code",
   "execution_count": null,
   "id": "f83ac749-18a8-4ee7-a959-3de01fad836e",
   "metadata": {
    "editable": true,
    "slideshow": {
     "slide_type": ""
    },
    "tags": []
   },
   "outputs": [],
   "source": [
    "a, *b, c = range(5)\n",
    "print(len(b), b[1])"
   ]
  },
  {
   "cell_type": "code",
   "execution_count": null,
   "id": "954f5cc3-a57a-4ae4-863b-0b85e61a7666",
   "metadata": {
    "editable": true,
    "slideshow": {
     "slide_type": ""
    },
    "tags": []
   },
   "outputs": [],
   "source": [
    "print(b)"
   ]
  },
  {
   "cell_type": "markdown",
   "id": "dbc441b7-6422-40b2-9c6c-eb08e6aa2ec9",
   "metadata": {
    "editable": true,
    "slideshow": {
     "slide_type": "slide"
    },
    "tags": []
   },
   "source": [
    "## Inheritance: method-resolution order (MRO)"
   ]
  },
  {
   "cell_type": "markdown",
   "id": "c3b70389-b180-4843-8360-548c396c7e05",
   "metadata": {
    "editable": true,
    "slideshow": {
     "slide_type": ""
    },
    "tags": []
   },
   "source": [
    "1) `Left`\n",
    "2) `Right`\n",
    "3) raises `TypeError`"
   ]
  },
  {
   "cell_type": "code",
   "execution_count": null,
   "id": "f618d64b-ccc6-4943-88da-4747b6ac4045",
   "metadata": {
    "editable": true,
    "slideshow": {
     "slide_type": ""
    },
    "tags": []
   },
   "outputs": [],
   "source": [
    "class Base:\n",
    "    def who(self):\n",
    "        return \"Base\"\n",
    "\n",
    "class Left(Base):\n",
    "    def who(self):\n",
    "        return \"Left\"\n",
    "\n",
    "class Right(Base):\n",
    "    def who(self):\n",
    "        return \"Right\"\n",
    "\n",
    "class Child(Left, Right):\n",
    "    pass\n",
    "\n",
    "print(Child().who())"
   ]
  },
  {
   "cell_type": "code",
   "execution_count": null,
   "id": "35ecd1ab-a39a-4f48-9704-7f2222445906",
   "metadata": {
    "editable": true,
    "slideshow": {
     "slide_type": "fragment"
    },
    "tags": []
   },
   "outputs": [],
   "source": [
    "print(Child.mro())"
   ]
  },
  {
   "cell_type": "markdown",
   "id": "72745eb8-0915-4929-931b-6d63accda37f",
   "metadata": {
    "editable": true,
    "slideshow": {
     "slide_type": ""
    },
    "tags": []
   },
   "source": [
    "`Child` inherits from `Left` first, so Python’s MRO looks at `Left` before `Right`; `who()` in `Left` wins."
   ]
  },
  {
   "cell_type": "markdown",
   "id": "ad0060ec-51ae-4853-9dbd-ff5186116877",
   "metadata": {
    "editable": true,
    "slideshow": {
     "slide_type": "slide"
    },
    "tags": []
   },
   "source": [
    "## Property replaced by a plain attribute"
   ]
  },
  {
   "cell_type": "markdown",
   "id": "a66937c0-1cee-4642-9f30-7b34ecfaa27f",
   "metadata": {
    "editable": true,
    "slideshow": {
     "slide_type": ""
    },
    "tags": []
   },
   "source": [
    "1) `1`\n",
    "2) `2`\n",
    "3) raises `AttributeError`"
   ]
  },
  {
   "cell_type": "code",
   "execution_count": null,
   "id": "4b5ef5b8-c9c2-415b-aaa3-fc5dbd796c3b",
   "metadata": {
    "editable": true,
    "slideshow": {
     "slide_type": ""
    },
    "tags": []
   },
   "outputs": [],
   "source": [
    "class Parent:\n",
    "    def __init__(self):\n",
    "        self._x = 1\n",
    "    @property\n",
    "    def x(self):\n",
    "        return self._x\n",
    "\n",
    "class Child(Parent):\n",
    "    x = 2\n",
    "\n",
    "print(Child().x)"
   ]
  },
  {
   "cell_type": "code",
   "execution_count": null,
   "id": "9eafe3d1-f11e-47ef-b00e-b4eb64ed40f2",
   "metadata": {
    "editable": true,
    "slideshow": {
     "slide_type": ""
    },
    "tags": []
   },
   "outputs": [],
   "source": [
    "print(Parent().x)"
   ]
  },
  {
   "cell_type": "code",
   "execution_count": null,
   "id": "b68a6e72-bcd4-4608-83ca-6b640487dd60",
   "metadata": {
    "editable": true,
    "slideshow": {
     "slide_type": ""
    },
    "tags": []
   },
   "outputs": [],
   "source": [
    "del Child.x\n",
    "print(Child().x)"
   ]
  },
  {
   "cell_type": "code",
   "execution_count": null,
   "id": "d9b2668a-812d-4541-97e8-332b15f338b9",
   "metadata": {
    "editable": true,
    "slideshow": {
     "slide_type": ""
    },
    "tags": []
   },
   "outputs": [],
   "source": [
    "del Parent().x"
   ]
  },
  {
   "cell_type": "markdown",
   "id": "dd70cfa5-82db-4ac6-9884-0d11b15b4170",
   "metadata": {
    "editable": true,
    "slideshow": {
     "slide_type": "slide"
    },
    "tags": []
   },
   "source": [
    "## Mis-matched arguments in `super()`"
   ]
  },
  {
   "cell_type": "markdown",
   "id": "ac72e9ba-0691-4857-ab21-5e77071c2aa0",
   "metadata": {
    "editable": true,
    "slideshow": {
     "slide_type": ""
    },
    "tags": []
   },
   "source": [
    "1) `10 20 20`\n",
    "2) `10 None 20`\n",
    "3) raises `TypeError`"
   ]
  },
  {
   "cell_type": "code",
   "execution_count": null,
   "id": "2dfe73ed-f175-4676-8624-9aac5f4e2efb",
   "metadata": {
    "editable": true,
    "slideshow": {
     "slide_type": ""
    },
    "tags": []
   },
   "outputs": [],
   "source": [
    "class Parent:\n",
    "    def __init__(self, x, y):\n",
    "        self.x, self.y = x, y\n",
    "\n",
    "class Child(Parent):\n",
    "    def __init__(self, x, z):\n",
    "        super().__init__(x)\n",
    "        self.z = z\n",
    "\n",
    "c = Child(10, 20)\n",
    "print(c.x, c.y, c.z)"
   ]
  },
  {
   "cell_type": "markdown",
   "id": "ae4d7ef3-b83e-45ed-b863-99c529f423fb",
   "metadata": {
    "editable": true,
    "slideshow": {
     "slide_type": "fragment"
    },
    "tags": []
   },
   "source": [
    "`Parent.__init__` requires two positional arguments (`x` and `y`).\n",
    "Calling `super().__init__(x)` supplies only one, so object construction stops immediately with `TypeError: __init__() missing 1 required positional argument: 'y'`."
   ]
  }
 ],
 "metadata": {
  "kernelspec": {
   "display_name": "Modeling Ant Foraging Seminar",
   "language": "python",
   "name": "foraging_ants_seminar"
  },
  "language_info": {
   "codemirror_mode": {
    "name": "ipython",
    "version": 3
   },
   "file_extension": ".py",
   "mimetype": "text/x-python",
   "name": "python",
   "nbconvert_exporter": "python",
   "pygments_lexer": "ipython3",
   "version": "3.12.3"
  }
 },
 "nbformat": 4,
 "nbformat_minor": 5
}
