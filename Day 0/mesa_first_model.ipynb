{
 "cells": [
  {
   "cell_type": "code",
   "execution_count": null,
   "id": "initial_id",
   "metadata": {},
   "outputs": [],
   "source": [
    "!pip install -U \"mesa[all]\""
   ]
  },
  {
   "cell_type": "code",
   "execution_count": 1,
   "id": "7029948b-8360-4f24-a225-04cb1158606e",
   "metadata": {},
   "outputs": [],
   "source": [
    "import mesa\n",
    "from mesa.discrete_space import CellAgent, OrthogonalMooreGrid"
   ]
  },
  {
   "cell_type": "code",
   "execution_count": 2,
   "id": "a6ac9b8d-5235-40f1-9bc4-87e5de78ff86",
   "metadata": {},
   "outputs": [],
   "source": [
    "class MyAgent(CellAgent):\n",
    "    def __init__(self, model, age, cell=None):\n",
    "        super().__init__(model)\n",
    "        self.age = age\n",
    "        self.cell = cell\n",
    "\n",
    "    def step(self):\n",
    "        self.age += 1\n",
    "        print(f\"Agent {self.unique_id} at {self.cell.coordinate} now is {self.age} years old\")\n",
    "        # Whatever else the agent does when activated"
   ]
  },
  {
   "cell_type": "code",
   "execution_count": 3,
   "id": "c9d8b1ec-0e21-4e79-8f3e-1f4e8868f1e6",
   "metadata": {},
   "outputs": [],
   "source": [
    "class MyModel(mesa.Model):\n",
    "    def __init__(self, n_agents, seed=None):\n",
    "        super().__init__(seed=seed)\n",
    "        self.grid = OrthogonalMooreGrid((10, 10), torus=True, random=self.random)\n",
    "\n",
    "        agents = MyAgent.create_agents(\n",
    "            self,\n",
    "            n_agents,\n",
    "            cell=self.random.choices(self.grid.all_cells.cells, k=n_agents),\n",
    "            age=self.rng.integers(0, 80, (n_agents,), endpoint=True),\n",
    "        )\n",
    "\n",
    "    def step(self):\n",
    "        self.agents.do(\"step\")"
   ]
  },
  {
   "cell_type": "code",
   "execution_count": 4,
   "id": "32be7946-f7ba-4a65-baa4-5293d93e82b3",
   "metadata": {},
   "outputs": [],
   "source": [
    "m1 = MyModel(n_agents=4, seed=15)"
   ]
  },
  {
   "cell_type": "code",
   "execution_count": 5,
   "id": "fcd88dae-f446-47f3-9f8a-fc09acbf3266",
   "metadata": {},
   "outputs": [
    {
     "name": "stdout",
     "output_type": "stream",
     "text": [
      "Agent 1 at (9, 6) now is 76 years old\n",
      "Agent 2 at (0, 1) now is 57 years old\n",
      "Agent 3 at (7, 3) now is 58 years old\n",
      "Agent 4 at (1, 5) now is 67 years old\n"
     ]
    }
   ],
   "source": [
    "m1.step()"
   ]
  },
  {
   "cell_type": "code",
   "execution_count": null,
   "id": "ed4d32d1-ba84-4563-b17a-80f9e0061ad6",
   "metadata": {},
   "outputs": [],
   "source": []
  }
 ],
 "metadata": {
  "kernelspec": {
   "display_name": "Modeling Ant Foraging Seminar",
   "language": "python",
   "name": "foraging_ants_seminar"
  },
  "language_info": {
   "codemirror_mode": {
    "name": "ipython",
    "version": 3
   },
   "file_extension": ".py",
   "mimetype": "text/x-python",
   "name": "python",
   "nbconvert_exporter": "python",
   "pygments_lexer": "ipython3",
   "version": "3.12.3"
  }
 },
 "nbformat": 4,
 "nbformat_minor": 5
}
